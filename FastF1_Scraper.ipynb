{
 "cells": [
  {
   "cell_type": "markdown",
   "id": "fd09d70b-107f-4675-be75-139c50cebc00",
   "metadata": {},
   "source": [
    "### Data fetching scripts have been run in \"ShowsSpeed.ipynb\", this notebook is quick reference for them:"
   ]
  },
  {
   "cell_type": "raw",
   "id": "7b33d9fd-b633-4782-b6b5-bcc907cc18f9",
   "metadata": {},
   "source": [
    "YEAR=2022\n",
    "ROUNDS=list(range(1,23))\n",
    "SESSIONS=[\"Q\",\"R\"]  # just want Qualifying & Race Day data\n",
    "CACHE=Path(\"fastf1_cache_run2\")\n",
    "OUT=Path(f\"out_ff1/{YEAR}\")\n",
    "OUT.mkdir(parents=True, exist_ok=True)\n",
    "\n",
    "ENABLE_LAPS=True\n",
    "ENABLE_TELEM=False\n",
    "MAX_RETRIES=3\n",
    "SLEEP_BETWEEN_RETRIES=20\n",
    "\n",
    "SESSIONS_PER_HOUR_CAP=6\n",
    "INTER_SESSION_SLEEP_MIN=15\n",
    "INTER_SESSION_SLEEP_MAX=25"
   ]
  },
  {
   "cell_type": "raw",
   "id": "9dce3b16-2903-4638-8991-f225f03c5a1d",
   "metadata": {},
   "source": [
    "def setup():\n",
    "    CACHE.mkdir(exist_ok=True)\n",
    "    fastf1.Cache.enable_cache(str(CACHE))\n",
    "    logging.basicConfig(level=logging.INFO,format=\"%(asctime)s %(levelname)s %(message)s\")"
   ]
  },
  {
   "cell_type": "raw",
   "id": "0fc5e1e7-8277-449e-9ccc-a6ef6030e670",
   "metadata": {},
   "source": [
    "def save_df(df, base):\n",
    "    if df is None or len(df)==0: return\n",
    "    base.parent.mkdir(parents=True, exist_ok=True)\n",
    "    df.to_csv(base.with_suffix(\".csv\"), index=False)\n",
    "    try: df.to_parquet(base.with_suffix(\".parquet\"), index=False)\n",
    "    except Exception: pass"
   ]
  },
  {
   "cell_type": "raw",
   "id": "37611eba-cc4f-4407-b0bf-e6fe4cb18cf5",
   "metadata": {},
   "source": [
    "def minimal_results(ses):\n",
    "    try:\n",
    "        r=ses.results.copy()\n",
    "        keep=[c for c in r.columns if c.lower() in {\n",
    "            \"drivernumber\",\"broadcastname\",\"abbreviation\",\"teamname\",\"teamcolor\",\n",
    "            \"position\",\"status\",\"points\",\"gridposition\",\"q1\",\"q2\",\"q3\",\"fastestlap\",\n",
    "            \"time\",\"timedelta\"}]\n",
    "        return r[keep] if keep else r\n",
    "    except Exception:\n",
    "        return pd.DataFrame()"
   ]
  },
  {
   "cell_type": "raw",
   "id": "720a2e6b-93cb-42cb-9995-95341f04905a",
   "metadata": {},
   "source": [
    "def extract_laps(ses):\n",
    "    try:\n",
    "        laps:Laps=ses.laps\n",
    "        if laps is None or len(laps)==0: return pd.DataFrame()\n",
    "        cols=[c for c in laps.columns if c in [\n",
    "            \"Driver\",\"DriverNumber\",\"Team\",\"LapTime\",\"LapNumber\",\"Stint\",\"Compound\",\n",
    "            \"TyreLife\",\"IsAccurate\",\"IsPitOutLap\",\"IsPitInLap\",\n",
    "            \"Sector1Time\",\"Sector2Time\",\"Sector3Time\"]]\n",
    "        base=laps[cols].copy() if cols else laps.copy()\n",
    "        base[\"RoundNumber\"]=ses.event[\"RoundNumber\"]\n",
    "        base[\"SessionName\"]=ses.name\n",
    "        base[\"EventName\"]=ses.event[\"EventName\"]\n",
    "        return base\n",
    "    except Exception:\n",
    "        return pd.DataFrame()"
   ]
  },
  {
   "cell_type": "raw",
   "id": "a6fa65a3-0e2d-4848-b415-a79986d89cef",
   "metadata": {},
   "source": [
    "def load_with_retry(year, rnd, which):\n",
    "    for attempt in range(1,MAX_RETRIES+1):\n",
    "        try:\n",
    "            ses=fastf1.get_session(year, rnd, which)\n",
    "            ses.load(telemetry=ENABLE_TELEM, weather=True)\n",
    "            return ses\n",
    "        except Exception as e:\n",
    "            logging.warning(f\"[{year} R{rnd} {which}] attempt {attempt}/{MAX_RETRIES} failed: {e}\")\n",
    "            logging.debug(traceback.format_exc())\n",
    "            if attempt<MAX_RETRIES:\n",
    "                time.sleep(SLEEP_BETWEEN_RETRIES*(2**(attempt-1)))\n",
    "    return None\n",
    "\n",
    "window_start=None\n",
    "sessions_this_window=0"
   ]
  },
  {
   "cell_type": "raw",
   "id": "b7c0d45b-6c92-42c4-905c-0694f40fe1dd",
   "metadata": {},
   "source": [
    "def wait_for_window():\n",
    "    global window_start, sessions_this_window\n",
    "    now=datetime.utcnow()\n",
    "    if window_start is None:\n",
    "        window_start=now; sessions_this_window=0; return\n",
    "    if now-window_start>=timedelta(hours=1):\n",
    "        window_start=now; sessions_this_window=0; return\n",
    "    if sessions_this_window>=SESSIONS_PER_HOUR_CAP:\n",
    "        wake=window_start+timedelta(hours=1,seconds=3)\n",
    "        sleep_s=max(3,int((wake-now).total_seconds()))\n",
    "        logging.info(f\"hourly cap reached ({SESSIONS_PER_HOUR_CAP}); sleeping {sleep_s}s until window reset\")\n",
    "        time.sleep(sleep_s)\n",
    "        window_start=datetime.utcnow(); sessions_this_window=0"
   ]
  },
  {
   "cell_type": "raw",
   "id": "6cbdba13-7e3e-4c01-a40d-16cac8a3444e",
   "metadata": {},
   "source": [
    "def paced_session_run(year, rnd, which):\n",
    "    global sessions_this_window\n",
    "    wait_for_window()\n",
    "    tag=f\"y{year}_r{rnd:02d}_{which.lower()}\"\n",
    "    base=OUT/tag\n",
    "    if (base.with_name(base.name+\"_results.csv\")).exists():\n",
    "        logging.info(f\"skip existing {tag}\"); return\n",
    "    logging.info(f\"loading {tag}\")\n",
    "    ses=load_with_retry(year, rnd, which)\n",
    "    if ses is None:\n",
    "        logging.error(f\"give up {tag}\"); return\n",
    "    save_df(minimal_results(ses), base.with_name(base.name+\"_results\"))\n",
    "    if ENABLE_LAPS:\n",
    "        save_df(extract_laps(ses), base.with_name(base.name+\"_laps\"))\n",
    "    sessions_this_window+=1\n",
    "    cool=random.randint(INTER_SESSION_SLEEP_MIN, INTER_SESSION_SLEEP_MAX)\n",
    "    logging.info(f\"done {tag}; cool {cool}s (window {sessions_this_window}/{SESSIONS_PER_HOUR_CAP})\")\n",
    "    time.sleep(cool)"
   ]
  },
  {
   "cell_type": "raw",
   "id": "1d04bbc9-af7f-48bd-b17b-bad7191d29d4",
   "metadata": {},
   "source": [
    "setup()\n",
    "for rnd in ROUNDS:\n",
    "    for which in SESSIONS:\n",
    "        paced_session_run(YEAR, rnd, which)"
   ]
  },
  {
   "cell_type": "raw",
   "id": "b8da0c67-b7e3-438a-9d10-59fe5bfc9600",
   "metadata": {},
   "source": [
    "q_done = sorted(glob.glob(\"out_ff1/2022/y2022_r??_q_results.csv\"))\n",
    "r_done = sorted(glob.glob(\"out_ff1/2022/y2022_r??_r_results.csv\"))\n",
    "print(\"Q:\", len(q_done), \"/ 22\")\n",
    "print(\"R:\", len(r_done), \"/ 22\")\n",
    "\n",
    "missing = [(s, r) for s in [\"q\",\"r\"] for r in range(1,23)\n",
    "           if not os.path.exists(f\"out_ff1/2022/y2022_r{r:02d}_{s}_results.csv\")]\n",
    "print(\"Remaining:\", missing[:10], \", Total:\", len(missing))"
   ]
  },
  {
   "cell_type": "markdown",
   "id": "1e5ae556-8891-43ad-a431-51796855336d",
   "metadata": {},
   "source": [
    "**Year by Year Scraping (This took two days)**"
   ]
  },
  {
   "cell_type": "raw",
   "id": "b5f3ddbd-1c43-4745-8e4a-cf41995f4b27",
   "metadata": {},
   "source": [
    "def load_qr_laps(year=YEAR):\n",
    "    files = sorted(glob.glob(str(OUT_DIR / f\"y{year}_r??_q_laps.csv\"))) \\\n",
    "          + sorted(glob.glob(str(OUT_DIR / f\"y{year}_r??_r_laps.csv\")))\n",
    "    dfs = []\n",
    "    for f in files:\n",
    "        df = pd.read_csv(f)\n",
    "        # session type from filename\n",
    "        s_type = \"Q\" if \"_q_laps\" in f else \"R\"\n",
    "        # round from filename\n",
    "        m = re.search(r\"_r(\\d{2})_\", f)\n",
    "        rnd = int(m.group(1)) if m else None\n",
    "        df[\"year\"] = year\n",
    "        df[\"round\"] = rnd\n",
    "        df[\"session_type\"] = s_type\n",
    "        dfs.append(df)\n",
    "    return pd.concat(dfs, ignore_index=True) if dfs else pd.DataFrame()"
   ]
  },
  {
   "cell_type": "raw",
   "id": "7c644cba-20ce-4a07-a4bb-b8cdf716bc53",
   "metadata": {},
   "source": [
    "qr_2022 = load_qr_laps()"
   ]
  },
  {
   "cell_type": "raw",
   "id": "273f19f0-bab8-4968-afda-44c3fa811494",
   "metadata": {},
   "source": [
    "def td_to_s(series):\n",
    "    td = pd.to_timedelta(series, errors=\"coerce\")\n",
    "    return td.dt.total_seconds()"
   ]
  },
  {
   "cell_type": "raw",
   "id": "200da1af-1214-4117-aef0-ba8d9931bb4b",
   "metadata": {},
   "source": [
    "for col in [\"LapTime\",\"Sector1Time\",\"Sector2Time\",\"Sector3Time\",\n",
    "            \"LapNumber\",\"Driver\",\"DriverNumber\",\"Team\",\n",
    "            \"Stint\",\"Compound\",\"TyreLife\",\"IsPitOutLap\",\"IsPitInLap\",\"IsAccurate\",\n",
    "            \"EventName\",\"SessionName\",\"RoundNumber\"]:\n",
    "    if col not in qr_2022.columns:\n",
    "        qr_2022[col] = pd.NA"
   ]
  },
  {
   "cell_type": "raw",
   "id": "90129abb-e68a-4f82-a2da-0f631c7ef036",
   "metadata": {},
   "source": [
    "qr_2022_df = pd.DataFrame({\n",
    "    \"year\": qr_2022[\"year\"],\n",
    "    \"round\": qr_2022[\"round\"].fillna(qr_2022[\"RoundNumber\"]),\n",
    "    \"session_type\": qr_2022[\"session_type\"],\n",
    "    \"event_name\": qr_2022.get(\"EventName\"),\n",
    "    \"session_name\": qr_2022.get(\"SessionName\"),\n",
    "    \"driver\": qr_2022.get(\"Driver\"),\n",
    "    \"driver_number\": qr_2022.get(\"DriverNumber\"),\n",
    "    \"team\": qr_2022.get(\"Team\"),\n",
    "    \"lap\": qr_2022.get(\"LapNumber\"),\n",
    "    \"lap_time_s\": td_to_s(qr_2022.get(\"LapTime\")),\n",
    "    \"s1_s\": td_to_s(qr_2022.get(\"Sector1Time\")),\n",
    "    \"s2_s\": td_to_s(qr_2022.get(\"Sector2Time\")),\n",
    "    \"s3_s\": td_to_s(qr_2022.get(\"Sector3Time\")),\n",
    "    \"stint\": qr_2022.get(\"Stint\"),\n",
    "    \"compound\": qr_2022.get(\"Compound\"),\n",
    "    \"tyre_life\": qr_2022.get(\"TyreLife\"),\n",
    "    \"is_pit_out\": qr_2022.get(\"IsPitOutLap\").astype(\"boolean\"),\n",
    "    \"is_pit_in\": qr_2022.get(\"IsPitInLap\").astype(\"boolean\"),\n",
    "    \"is_accurate\": qr_2022.get(\"IsAccurate\").astype(\"boolean\"),})"
   ]
  },
  {
   "cell_type": "raw",
   "id": "90eca44b-dfe2-488e-90a9-a32115d160af",
   "metadata": {},
   "source": [
    "qr_2022_df = qr_2022_df.dropna(subset=[\"lap_time_s\"])\n",
    "if \"is_accurate\" in qr_2022_df.columns:\n",
    "    qr_2022_df = qr_2022_df[(qr_2022_df[\"is_accurate\"].isna()) | (qr_2022_df[\"is_accurate\"])]\n",
    "\n",
    "out_parquet = SAVE_DIR / \"qr_laps_2022.parquet\"\n",
    "out_csv = SAVE_DIR / \"qr_laps_2022.csv\"\n",
    "qr_2022_df.to_parquet(out_parquet, index=False)\n",
    "qr_2022_df.to_csv(out_csv, index=False)"
   ]
  },
  {
   "cell_type": "raw",
   "id": "9ab3b0a0-de12-4d38-a357-8719743c76ba",
   "metadata": {},
   "source": [
    "!mkdir -p out_ff1/2023 out_ff1/2024 out_ff1/2025 fastf1_cache_2023 fastf1_cache_2024 fastf1_cache_2025"
   ]
  },
  {
   "cell_type": "raw",
   "id": "61efe13b-c07c-4721-ae55-0c205c8a38b5",
   "metadata": {},
   "source": [
    "!PYTHONUNBUFFERED=1 python -u ff1_fetch_2023_paced_full.py 2>&1 | tee fetch_2023.log"
   ]
  },
  {
   "cell_type": "raw",
   "id": "188cd464-1463-4d27-9a6c-332dacaaf18b",
   "metadata": {},
   "source": [
    "YEAR = 2023\n",
    "OUT_DIR = Path(f\"out_ff1/{YEAR}\")\n",
    "SAVE_DIR = Path(\"model_data\"); SAVE_DIR.mkdir(parents=True, exist_ok=True)"
   ]
  },
  {
   "cell_type": "raw",
   "id": "f04b670f-b685-4848-b88e-6a997e562de4",
   "metadata": {},
   "source": [
    "def load_qr_laps_2023(year=YEAR):\n",
    "    files = sorted(glob.glob(str(OUT_DIR / f\"y{year}_r??_q_laps.csv\"))) \\\n",
    "          + sorted(glob.glob(str(OUT_DIR / f\"y{year}_r??_r_laps.csv\")))\n",
    "    dfs = []\n",
    "    for f in files:\n",
    "        df = pd.read_csv(f)\n",
    "        s_type = \"Q\" if \"_q_laps\" in f else \"R\"\n",
    "        m = re.search(r\"_r(\\d{2})_\", f)\n",
    "        rnd = int(m.group(1)) if m else None\n",
    "        df[\"year\"] = year\n",
    "        df[\"round\"] = rnd\n",
    "        df[\"session_type\"] = s_type\n",
    "        dfs.append(df)\n",
    "    return pd.concat(dfs, ignore_index=True) if dfs else pd.DataFrame()"
   ]
  },
  {
   "cell_type": "raw",
   "id": "3a5ef555-e64a-4b82-8fbe-708826967d6b",
   "metadata": {},
   "source": [
    "qr_2023 = load_qr_laps_2023()"
   ]
  },
  {
   "cell_type": "raw",
   "id": "13113f87-0842-410b-8b0c-337dafa22922",
   "metadata": {},
   "source": [
    "for col in [\"LapTime\",\"Sector1Time\",\"Sector2Time\",\"Sector3Time\",\n",
    "            \"LapNumber\",\"Driver\",\"DriverNumber\",\"Team\",\n",
    "            \"Stint\",\"Compound\",\"TyreLife\",\"IsPitOutLap\",\"IsPitInLap\",\"IsAccurate\",\n",
    "            \"EventName\",\"SessionName\",\"RoundNumber\"]:\n",
    "    if col not in qr_2023.columns:\n",
    "        qr_2023[col] = pd.NA"
   ]
  },
  {
   "cell_type": "raw",
   "id": "d7175b2b-b327-46a1-94a0-b70614cf6e13",
   "metadata": {},
   "source": [
    "qr_2023_df = pd.DataFrame({\"year\": qr_2023[\"year\"],\n",
    "                           \"round\": qr_2023[\"round\"].fillna(qr_2023[\"RoundNumber\"]),\n",
    "                           \"session_type\": qr_2023[\"session_type\"],\n",
    "                           \"event_name\": qr_2023.get(\"EventName\"),\n",
    "                           \"session_name\": qr_2023.get(\"SessionName\"),\n",
    "                           \"driver\": qr_2023.get(\"Driver\"),\n",
    "                           \"driver_number\": qr_2023.get(\"DriverNumber\"),\n",
    "                           \"team\": qr_2023.get(\"Team\"),\n",
    "                           \"lap\": qr_2023.get(\"LapNumber\"),\n",
    "                           \"lap_time_s\": td_to_s(qr_2023.get(\"LapTime\")),\n",
    "                           \"s1_s\": td_to_s(qr_2023.get(\"Sector1Time\")),\n",
    "                           \"s2_s\": td_to_s(qr_2023.get(\"Sector2Time\")),\n",
    "                           \"s3_s\": td_to_s(qr_2023.get(\"Sector3Time\")),\n",
    "                           \"stint\": qr_2023.get(\"Stint\"),\n",
    "                           \"compound\": qr_2023.get(\"Compound\"),\n",
    "                           \"tyre_life\": qr_2023.get(\"TyreLife\"),\n",
    "                           \"is_pit_out\": qr_2023.get(\"IsPitOutLap\").astype(\"boolean\"),\n",
    "                           \"is_pit_in\": qr_2023.get(\"IsPitInLap\").astype(\"boolean\"),\n",
    "                           \"is_accurate\": qr_2023.get(\"IsAccurate\").astype(\"boolean\"),})"
   ]
  },
  {
   "cell_type": "raw",
   "id": "346720e9-c186-4a0d-994c-bb08be207b32",
   "metadata": {},
   "source": [
    "qr_2023_df = qr_2023_df.dropna(subset=[\"lap_time_s\"])\n",
    "if \"is_accurate\" in qr_2023_df.columns:\n",
    "    qr_2023_df = qr_2023_df[(qr_2023_df[\"is_accurate\"].isna()) | (qr_2023_df[\"is_accurate\"])]\n",
    "\n",
    "out_parquet = SAVE_DIR / \"qr_laps_2023.parquet\"\n",
    "out_csv = SAVE_DIR / \"qr_laps_2023.csv\"\n",
    "qr_2023_df.to_parquet(out_parquet, index=False)\n",
    "qr_2023_df.to_csv(out_csv, index=False)"
   ]
  },
  {
   "cell_type": "raw",
   "id": "79dc0c25-530c-4647-a73d-2c8f5b08a660",
   "metadata": {},
   "source": [
    "print(qr_2023_df.shape, \"rows, cols\")\n",
    "qr_2023_df.head()"
   ]
  },
  {
   "cell_type": "raw",
   "id": "30a53a7c-4030-4cef-87e0-7695cbb68ff0",
   "metadata": {},
   "source": [
    "!PYTHONUNBUFFERED=1 python -u ff1_fetch_2024_paced_full.py 2>&1 | tee fetch_2024.log"
   ]
  },
  {
   "cell_type": "raw",
   "id": "6f8ea501-8bd5-416e-9e5c-36d1e853dda0",
   "metadata": {},
   "source": [
    "YEAR = 2024\n",
    "OUT_DIR = Path(f\"out_ff1/{YEAR}\")\n",
    "SAVE_DIR = Path(\"model_data\"); SAVE_DIR.mkdir(parents=True, exist_ok=True)"
   ]
  },
  {
   "cell_type": "raw",
   "id": "1423db1c-0582-4ff6-acd2-15368a15c54d",
   "metadata": {},
   "source": [
    "qr_2024 = load_qr_laps()"
   ]
  },
  {
   "cell_type": "raw",
   "id": "fdb61a45-bd7c-4791-b6ad-ff7cf5062c72",
   "metadata": {},
   "source": [
    "def col_or_na(df, name):\n",
    "    return df[name] if name in df.columns else pd.Series([pd.NA]*len(df))"
   ]
  },
  {
   "cell_type": "raw",
   "id": "a27ff93b-db8d-4459-bfa4-c391c4794da3",
   "metadata": {},
   "source": [
    "# ensure optional source columns exist when empty/missing\n",
    "for col in [\"LapTime\",\"Sector1Time\",\"Sector2Time\",\"Sector3Time\",\"LapNumber\",\n",
    "            \"Driver\",\"DriverNumber\",\"Team\",\"Stint\",\"Compound\",\"TyreLife\",\n",
    "            \"IsPitOutLap\",\"IsPitInLap\",\"IsAccurate\",\"EventName\",\"SessionName\",\"RoundNumber\"]:\n",
    "    if col not in qr_2024.columns: qr_2024[col] = pd.NA\n",
    "if \"year\" not in qr_2024.columns: qr_2024[\"year\"] = YEAR\n",
    "if \"round\" not in qr_2024.columns: qr_2024[\"round\"] = qr_2024.get(\"RoundNumber\")\n",
    "if \"session_type\" not in qr_2024.columns: qr_2024[\"session_type\"] = pd.NA"
   ]
  },
  {
   "cell_type": "raw",
   "id": "1c8adee8-f5de-41c0-a11e-7a10b8d0f4ec",
   "metadata": {},
   "source": [
    "qr_2024_df = pd.DataFrame({\"year\": qr_2024[\"year\"],\n",
    "                           \"round\": qr_2024[\"round\"].fillna(qr_2024[\"RoundNumber\"]),\n",
    "                           \"session_type\": qr_2024[\"session_type\"],\n",
    "                           \"event_name\": qr_2024.get(\"EventName\"),\n",
    "                           \"session_name\": qr_2024.get(\"SessionName\"),\n",
    "                           \"driver\": qr_2024.get(\"Driver\"),\n",
    "                           \"driver_number\": qr_2024.get(\"DriverNumber\"),\n",
    "                           \"team\": qr_2024.get(\"Team\"),\n",
    "                           \"lap\": qr_2024.get(\"LapNumber\"),\n",
    "                           \"lap_time_s\": td_to_s(qr_2024.get(\"LapTime\")),\n",
    "                           \"s1_s\": td_to_s(qr_2024.get(\"Sector1Time\")),\n",
    "                           \"s2_s\": td_to_s(qr_2024.get(\"Sector2Time\")),\n",
    "                           \"s3_s\": td_to_s(qr_2024.get(\"Sector3Time\")),\n",
    "                           \"stint\": qr_2024.get(\"Stint\"),\n",
    "                           \"compound\": qr_2024.get(\"Compound\"),\n",
    "                           \"tyre_life\": qr_2024.get(\"TyreLife\"),\n",
    "                           \"is_pit_out\": qr_2024.get(\"IsPitOutLap\").astype(\"boolean\"),\n",
    "                           \"is_pit_in\": qr_2024.get(\"IsPitInLap\").astype(\"boolean\"),\n",
    "                           \"is_accurate\": qr_2024.get(\"IsAccurate\").astype(\"boolean\"),})"
   ]
  },
  {
   "cell_type": "raw",
   "id": "357ffd05-40b8-4b85-b830-a6eb6600926e",
   "metadata": {},
   "source": [
    "qr_2024_df = qr_2024_df.dropna(subset=[\"lap_time_s\"])\n",
    "if \"is_accurate\" in qr_2024_df.columns:\n",
    "    qr_2024_df = qr_2024_df[(qr_2024_df[\"is_accurate\"].isna()) | (qr_2024_df[\"is_accurate\"])]\n",
    "\n",
    "out_parquet = SAVE_DIR / \"qr_laps_2024.parquet\"\n",
    "out_csv = SAVE_DIR / \"qr_laps_2024.csv\"\n",
    "qr_2024_df.to_parquet(out_parquet, index=False)\n",
    "qr_2024_df.to_csv(out_csv, index=False)"
   ]
  },
  {
   "cell_type": "raw",
   "id": "1ffeec74-a2e7-4474-88e7-f70addb3a85d",
   "metadata": {},
   "source": [
    "print(qr_2024_df.shape)\n",
    "qr_2024_df.head()"
   ]
  },
  {
   "cell_type": "raw",
   "id": "209f6c6a-b58f-4df1-b42b-c53544153b76",
   "metadata": {},
   "source": [
    "!PYTHONUNBUFFERED=1 python -u ff1_fetch_2025_paced_full.py 2>&1 | tee fetch_2025.log"
   ]
  },
  {
   "cell_type": "raw",
   "id": "998dcd01-703c-4eac-b3ae-ee85467fc30e",
   "metadata": {},
   "source": [
    "qr_2022 = load_qr_laps()"
   ]
  },
  {
   "cell_type": "raw",
   "id": "10f580bb-be14-4ae4-ad30-11db0133d3aa",
   "metadata": {},
   "source": [
    "qr_2022 = load_qr_laps()"
   ]
  },
  {
   "cell_type": "raw",
   "id": "a04b5d19-a4f3-4594-8814-dd0671f7f73e",
   "metadata": {},
   "source": [
    "qr_2022 = load_qr_laps()"
   ]
  },
  {
   "cell_type": "raw",
   "id": "1693237b-16a5-4191-af04-5185793944e1",
   "metadata": {},
   "source": [
    "qr_2022 = load_qr_laps()"
   ]
  },
  {
   "cell_type": "raw",
   "id": "d0cc1ba8-1e83-42a2-8c48-bc70ae91bb77",
   "metadata": {},
   "source": [
    "qr_2022 = load_qr_laps()"
   ]
  },
  {
   "cell_type": "raw",
   "id": "d6cafe6d-d528-4eb5-b840-b1cd9276f2fa",
   "metadata": {},
   "source": [
    "qr_2022 = load_qr_laps()"
   ]
  },
  {
   "cell_type": "raw",
   "id": "d1987bc6-707b-4766-bfca-3505da0e5739",
   "metadata": {},
   "source": [
    "qr_2022 = load_qr_laps()"
   ]
  }
 ],
 "metadata": {
  "kernelspec": {
   "display_name": "Python [conda env:base] *",
   "language": "python",
   "name": "conda-base-py"
  },
  "language_info": {
   "codemirror_mode": {
    "name": "ipython",
    "version": 3
   },
   "file_extension": ".py",
   "mimetype": "text/x-python",
   "name": "python",
   "nbconvert_exporter": "python",
   "pygments_lexer": "ipython3",
   "version": "3.10.13"
  }
 },
 "nbformat": 4,
 "nbformat_minor": 5
}
